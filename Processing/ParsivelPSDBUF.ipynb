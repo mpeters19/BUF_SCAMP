{
 "cells": [
  {
   "cell_type": "code",
   "execution_count": 9,
   "metadata": {},
   "outputs": [],
   "source": [
    "import matplotlib\n",
    "#matplotlib.use('Agg')  #this should be uncommented if you are running this in the background on a server\n",
    "import matplotlib.pyplot as plt \n",
    "import numpy as np\n",
    "import xarray as xr\n",
    "import os\n",
    "import pandas as pd\n",
    "import matplotlib.dates as mdates\n",
    "from mpl_toolkits.axes_grid1.inset_locator import inset_axes\n",
    "import seaborn as sns\n",
    "import pandas as pd\n",
    "import datetime as dt\n",
    "import ParsivelPSDBUF as ParsivelPSDBUF\n",
    "from utility import filter\n",
    "from utility import configuration\n",
    "from PyDSD.pydsd.DropSizeDistribution import DropSizeDistribution\n",
    "from PyDSD.pydsd.io import common\n",
    "from PyDSD.pydsd.io import ParsivelReader\n",
    "\n",
    "sns.set(style=\"ticks\", context=\"paper\")\n",
    "plt.style.use(\"dark_background\")\n"
   ]
  },
  {
   "cell_type": "code",
   "execution_count": 10,
   "metadata": {},
   "outputs": [],
   "source": [
    "yyyymmdd = '20221225'"
   ]
  },
  {
   "cell_type": "code",
   "execution_count": 11,
   "metadata": {},
   "outputs": [
    {
     "name": "stderr",
     "output_type": "stream",
     "text": [
      "/data/keeling/a/mp46/Research/Data_Processing_Scripts/BUF_Scripts/Processing/ParsivelPSDBUF.py:163: RuntimeWarning: invalid value encountered in scalar divide\n",
      "  self.dm_moments[td] = self.moments[td,4] / self.moments[td,3]\n",
      "/data/keeling/a/mp46/Research/Data_Processing_Scripts/BUF_Scripts/Processing/ParsivelPSDBUF.py:176: RuntimeWarning: invalid value encountered in divide\n",
      "  self.Dm[td] = np.divide(dm_numerator,dm_denominator)\n",
      "/data/keeling/a/mp46/Research/Data_Processing_Scripts/BUF_Scripts/Processing/ParsivelPSDBUF.py:179: RuntimeWarning: invalid value encountered in divide\n",
      "  self.vvd[td] = np.divide(vvd_num, vvd_denom)\n"
     ]
    }
   ],
   "source": [
    "dsd = ParsivelPSDBUF.calc_dsd(yyyymmdd)"
   ]
  },
  {
   "cell_type": "code",
   "execution_count": 12,
   "metadata": {},
   "outputs": [
    {
     "data": {
      "text/plain": [
       "'Takes the dsd object and saves it as a netCDF file\\ndata = xr.Dataset(data_vars=dict(\\n        avg_rainrate = ([\"time\"], dsd.ds.rr.data), #mean Parsivel rain rate value recorded in each data chunk\\n        avg_dbz = ([\"time\"], dsd.ds.dBZ.data), #mean Parsivel dBZ recorded in each data chunk\\n        # #temperature = ([\"time\"], self.proc_p2.temperature), #The mean parsivel temperature value of each data chunk\\n        moment_diameter = ([\"time\"], dsd.dm_moments.data), #Mass-weighted mean diameter\\n        mass_mean_diameter = ([\"time\"], dsd.Dm.data),\\n        \\n        original_dsd = ([\"time\",\"diameter\"], dsd.ds.Nd.data),\\n        dsd = ([\"time\",\"diameter\"], dsd.dsd.data), #The number of drops per volume of air for a given drop size interval (ie for the 32 bins)\\n        # #vvd = ([\"time\",\"velocity\"], self.vvd),\\n\\n        Heymsfield_massspec_warm_bins = ([\"time\",\"diameter\"], dsd.mass_spectrum_warm[1].data),\\n        Heymsfield_massspec_warm_total = ([\"time\"], dsd.mass_spectrum_warm[0].data),\\n        Heymsfield_mass_warm = ([\"diameter\"], dsd.heymsfield_warm_mass.data),\\n        Matrosov_massspec_bins = ([\"time\",\"diameter\"], dsd.mass_spectrum_matrosov[1].data),\\n        Matrosov_massspec_total = ([\"time\"], dsd.mass_spectrum_matrosov[0].data),\\n        \\n        IWC_bins = ([\"time\",\"diameter\"], dsd.IWC[1].data),\\n        IWC_total = ([\"time\"], dsd.IWC[0].data),\\n        LWC_bins = ([\"time\",\"diameter\"], dsd.LWC[1].data),\\n        LWC_total = ([\"time\"], dsd.LWC[0].data),\\n        Williams_LWC_bins = ([\"time\",\"diameter\"], dsd.Williams_LWC[1].data),\\n        Williams_LWC_total = ([\"time\"], dsd.Williams_LWC[0].data),\\n\\n        raindrop_mass_bins = ([\"time\",\"diameter\"], dsd.liquid_mass[1].data),\\n        raindrop_mass_spectrum_bins = ([\"time\",\"diameter\"], dsd.liquid_mass_spectrum[1].data),\\n        raindrop_mass_spectrum_total = ([\"time\"], dsd.liquid_mass_spectrum[0].data),\\n\\n        z_bins = ([\"time\",\"diameter\"], dsd.z[1].data), #Reflectivity factor from each drop size bin, value for each bin individually (plus time-dimension)\\n        total_z = ([\"time\"], dsd.z[0].data), # reflectivity factor, total across all 32 DSD bins\\n        total_dbz = ([\"time\"], dsd.dbz.data),\\n        ze_bins = ([\"time\",\"diameter\"], dsd.ze[1].data), #Reflectivity factor from each drop size bin, value for each bin individually (plus time-dimension)\\n        total_ze = ([\"time\"], dsd.ze[0].data), # reflectivity factor, average or total across all 32 DSD bins\\n        spectrum = ([\"time\", \"velocity\",\"diameter\"], dsd.ds.spectrum.data)\\n    ),\\n    coords=dict(\\n        time=([\"time\"], dsd.ds.time.data), #assigning time as a coordinate\\n        diameter=([\"diameter\"], dsd.drop_diameter), #assigning drop diameter bins as a coordinate\\n        velocity=([\"velocity\"], dsd.v_parsivel), #assigning velocity bins as a coordinate\\n    ),\\n    attrs=dict(description=\"BUF Parsivel Data\")) # adding a description for netCDF file\\ndata.to_netcdf(\\'/data/keeling/a/mp46/Research/Processed_Data/\\'+yyyymmdd+\\'_BUFtest.nc\\') #saving netCDF to specified path\\n'"
      ]
     },
     "execution_count": 12,
     "metadata": {},
     "output_type": "execute_result"
    }
   ],
   "source": [
    "'''Takes the dsd object and saves it as a netCDF file\n",
    "data = xr.Dataset(data_vars=dict(\n",
    "        avg_rainrate = ([\"time\"], dsd.ds.rr.data), #mean Parsivel rain rate value recorded in each data chunk\n",
    "        avg_dbz = ([\"time\"], dsd.ds.dBZ.data), #mean Parsivel dBZ recorded in each data chunk\n",
    "        # #temperature = ([\"time\"], self.proc_p2.temperature), #The mean parsivel temperature value of each data chunk\n",
    "        moment_diameter = ([\"time\"], dsd.dm_moments.data), #Mass-weighted mean diameter\n",
    "        mass_mean_diameter = ([\"time\"], dsd.Dm.data),\n",
    "        \n",
    "        original_dsd = ([\"time\",\"diameter\"], dsd.ds.Nd.data),\n",
    "        dsd = ([\"time\",\"diameter\"], dsd.dsd.data), #The number of drops per volume of air for a given drop size interval (ie for the 32 bins)\n",
    "        # #vvd = ([\"time\",\"velocity\"], self.vvd),\n",
    "\n",
    "        Heymsfield_massspec_warm_bins = ([\"time\",\"diameter\"], dsd.mass_spectrum_warm[1].data),\n",
    "        Heymsfield_massspec_warm_total = ([\"time\"], dsd.mass_spectrum_warm[0].data),\n",
    "        Heymsfield_mass_warm = ([\"diameter\"], dsd.heymsfield_warm_mass.data),\n",
    "        Matrosov_massspec_bins = ([\"time\",\"diameter\"], dsd.mass_spectrum_matrosov[1].data),\n",
    "        Matrosov_massspec_total = ([\"time\"], dsd.mass_spectrum_matrosov[0].data),\n",
    "        \n",
    "        IWC_bins = ([\"time\",\"diameter\"], dsd.IWC[1].data),\n",
    "        IWC_total = ([\"time\"], dsd.IWC[0].data),\n",
    "        LWC_bins = ([\"time\",\"diameter\"], dsd.LWC[1].data),\n",
    "        LWC_total = ([\"time\"], dsd.LWC[0].data),\n",
    "        Williams_LWC_bins = ([\"time\",\"diameter\"], dsd.Williams_LWC[1].data),\n",
    "        Williams_LWC_total = ([\"time\"], dsd.Williams_LWC[0].data),\n",
    "\n",
    "        raindrop_mass_bins = ([\"time\",\"diameter\"], dsd.liquid_mass[1].data),\n",
    "        raindrop_mass_spectrum_bins = ([\"time\",\"diameter\"], dsd.liquid_mass_spectrum[1].data),\n",
    "        raindrop_mass_spectrum_total = ([\"time\"], dsd.liquid_mass_spectrum[0].data),\n",
    "\n",
    "        z_bins = ([\"time\",\"diameter\"], dsd.z[1].data), #Reflectivity factor from each drop size bin, value for each bin individually (plus time-dimension)\n",
    "        total_z = ([\"time\"], dsd.z[0].data), # reflectivity factor, total across all 32 DSD bins\n",
    "        total_dbz = ([\"time\"], dsd.dbz.data),\n",
    "        ze_bins = ([\"time\",\"diameter\"], dsd.ze[1].data), #Reflectivity factor from each drop size bin, value for each bin individually (plus time-dimension)\n",
    "        total_ze = ([\"time\"], dsd.ze[0].data), # reflectivity factor, average or total across all 32 DSD bins\n",
    "        spectrum = ([\"time\", \"velocity\",\"diameter\"], dsd.ds.spectrum.data)\n",
    "    ),\n",
    "    coords=dict(\n",
    "        time=([\"time\"], dsd.ds.time.data), #assigning time as a coordinate\n",
    "        diameter=([\"diameter\"], dsd.drop_diameter), #assigning drop diameter bins as a coordinate\n",
    "        velocity=([\"velocity\"], dsd.v_parsivel), #assigning velocity bins as a coordinate\n",
    "    ),\n",
    "    attrs=dict(description=\"BUF Parsivel Data\")) # adding a description for netCDF file\n",
    "data.to_netcdf('/data/keeling/a/mp46/Research/Processed_Data/'+yyyymmdd+'_BUFtest.nc') #saving netCDF to specified path\n",
    "'''"
   ]
  }
 ],
 "metadata": {
  "kernelspec": {
   "display_name": "Python 3.9.0 ('DataReader')",
   "language": "python",
   "name": "python3"
  },
  "language_info": {
   "codemirror_mode": {
    "name": "ipython",
    "version": 3
   },
   "file_extension": ".py",
   "mimetype": "text/x-python",
   "name": "python",
   "nbconvert_exporter": "python",
   "pygments_lexer": "ipython3",
   "version": "3.9.7"
  },
  "orig_nbformat": 4,
  "vscode": {
   "interpreter": {
    "hash": "bea828edbfb243390589ce5bd871004479879c23e8fc47e3651eceba39167db9"
   }
  }
 },
 "nbformat": 4,
 "nbformat_minor": 2
}
